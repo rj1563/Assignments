{
 "cells": [
  {
   "cell_type": "code",
   "execution_count": 1,
   "metadata": {},
   "outputs": [
    {
     "name": "stdout",
     "output_type": "stream",
     "text": [
      "Data has been successfully saved to new_customer_data.csv\n"
     ]
    }
   ],
   "source": [
    "import pandas as pd\n",
    "new_customer_data = [\n",
    "    [108, 'Pooja Joshi', 'pooja.joshi@email.com', 33, 'Chennai'],\n",
    "    [109, 'Pooja Joshi', 'pooja.joshi@email.com', 35, 'Kolkata'],\n",
    "    [110, 'Vikram Chauhan', 'vikram.chauhan@email.com', 34, 'Pune'],\n",
    "    [111, 'Neha Gupta', 'neha.gupta@email.com', 35, 'Kolkata'],\n",
    "    [112, 'Sunita Rao', 'sunita.rao@email.com', 28, 'Lucknow'],\n",
    "    [113, 'Sunita Rao', 'sunita.rao@email.com', 33, 'Lucknow'],\n",
    "    [114, 'Rakesh Bansal', 'rakesh.bansal@email.com', 28, 'Lucknow'],\n",
    "    [115, 'Sunita Rao', 'sunita.rao@email.com', 25, 'Chennai']\n",
    "]\n",
    "\n",
    "# Create a DataFrame from the data\n",
    "df = pd.DataFrame(new_customer_data, columns=['customer_id','customer_name','email','age','customer_city'])\n",
    "\n",
    "# Save the DataFrame to a CSV file\n",
    "df.to_csv('new_customer_data.csv', index=False)\n",
    "\n",
    "print(\"Data has been successfully saved to new_customer_data.csv\")"
   ]
  },
  {
   "cell_type": "code",
   "execution_count": 2,
   "metadata": {},
   "outputs": [
    {
     "name": "stdout",
     "output_type": "stream",
     "text": [
      "Data has been successfully saved to new_sales_data.csv\n"
     ]
    }
   ],
   "source": [
    "# Define the new sales data\n",
    "new_sales_data = [\n",
    "    [11, 114, 'Tablet', 70000, '2023-09-13','North'],\n",
    "    [12, 115, 'Mobile', 50000, '2023-11-16','West'],\n",
    "    [13, 112, 'Tablet', 60000, '2023-01-04','South'],\n",
    "    [14, 109, 'Desktop', 90000, '2023-03-08','East'],\n",
    "    [15, 108, 'Laptop', 80000, '2023-06-25','East'],\n",
    "    [16, 113, 'Tablet', 50000, '2023-01-18','North'],\n",
    "    [17, 115, 'Desktop', 80000, '2023-02-05','North'],\n",
    "    [18, 112, 'Laptop', 60000, '2023-07-24','South'],\n",
    "    [19, 110, 'Mobile', 40000, '2023-07-08','West'],\n",
    "    [20, 108, 'Tablet', 70000, '2023-03-18','East']\n",
    "]\n",
    "\n",
    "# Create a DataFrame from the data\n",
    "df = pd.DataFrame(new_sales_data, columns=['sales_id','customer_id','product','amount','sale_date','region'])\n",
    "\n",
    "# Save the DataFrame to a CSV file\n",
    "df.to_csv('new_sales_data.csv', index=False)\n",
    "\n",
    "print(\"Data has been successfully saved to new_sales_data.csv\")"
   ]
  }
 ],
 "metadata": {
  "kernelspec": {
   "display_name": "Python 3",
   "language": "python",
   "name": "python3"
  },
  "language_info": {
   "codemirror_mode": {
    "name": "ipython",
    "version": 3
   },
   "file_extension": ".py",
   "mimetype": "text/x-python",
   "name": "python",
   "nbconvert_exporter": "python",
   "pygments_lexer": "ipython3",
   "version": "3.13.1"
  },
  "orig_nbformat": 4
 },
 "nbformat": 4,
 "nbformat_minor": 2
}
