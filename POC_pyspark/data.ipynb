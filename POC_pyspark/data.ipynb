{
 "cells": [
  {
   "cell_type": "code",
   "execution_count": 2,
   "metadata": {},
   "outputs": [],
   "source": [
    "import findspark\n",
    "findspark.init()"
   ]
  },
  {
   "cell_type": "code",
   "execution_count": 3,
   "metadata": {},
   "outputs": [],
   "source": [
    "from pyspark.sql import SparkSession\n",
    "spark = SparkSession.builder.appName('poc').getOrCreate()"
   ]
  },
  {
   "cell_type": "code",
   "execution_count": 4,
   "metadata": {},
   "outputs": [
    {
     "name": "stdout",
     "output_type": "stream",
     "text": [
      "root\n",
      " |-- transaction_id: integer (nullable = true)\n",
      " |-- store_id: string (nullable = true)\n",
      " |-- customer_id: string (nullable = true)\n",
      " |-- amount: double (nullable = true)\n",
      " |-- transaction_date: date (nullable = true)\n",
      " |-- status: string (nullable = true)\n",
      " |-- payment_method: string (nullable = true)\n",
      "\n",
      "+--------------+--------+-----------+------+----------------+-------+--------------+\n",
      "|transaction_id|store_id|customer_id|amount|transaction_date| status|payment_method|\n",
      "+--------------+--------+-----------+------+----------------+-------+--------------+\n",
      "|          2001|    S001|       C001| 500.0|      2025-03-31|Success|   Credit Card|\n",
      "|          2002|    S002|       C002| 250.0|      2025-03-31|Success|           UPI|\n",
      "|          2003|    S001|       C003| 700.0|      2025-03-31|Success|    Debit Card|\n",
      "|          2004|    S003|       C004| 900.0|      2025-03-31|Success|        Wallet|\n",
      "|          2005|    S002|       C005| 150.0|      2025-03-31|Success|   Net Banking|\n",
      "|          2006|    S002|       C006| 600.0|      2025-03-31|Success|           UPI|\n",
      "|          2007|    S004|       C007| 750.0|      2025-03-31| Failed|   Credit Card|\n",
      "+--------------+--------+-----------+------+----------------+-------+--------------+\n",
      "\n"
     ]
    }
   ],
   "source": [
    "transactions_df = spark.read.format(\"csv\")\\\n",
    "                    .option(\"header\", True)\\\n",
    "                    .option(\"inferSchema\", True)\\\n",
    "                    .load(\"transactions_20250331.csv\")\n",
    "\n",
    "transactions_df.printSchema()\n",
    "transactions_df.show()"
   ]
  },
  {
   "cell_type": "code",
   "execution_count": 5,
   "metadata": {},
   "outputs": [
    {
     "name": "stdout",
     "output_type": "stream",
     "text": [
      "root\n",
      " |-- store_id: string (nullable = true)\n",
      " |-- store_name: string (nullable = true)\n",
      " |-- location: string (nullable = true)\n",
      " |-- manager: string (nullable = true)\n",
      " |-- total_sales: integer (nullable = true)\n",
      " |-- last_updated: date (nullable = true)\n",
      "\n",
      "+--------+--------------+---------+-------+-----------+------------+\n",
      "|store_id|    store_name| location|manager|total_sales|last_updated|\n",
      "+--------+--------------+---------+-------+-----------+------------+\n",
      "|    S001|      ABC Mart|    Delhi|  Mr. A|   17000000|  2025-02-28|\n",
      "|    S002|XYZ Superstore|   Mumbai|  Ms. B|   25000000|  2025-02-28|\n",
      "|    S003| Fresh Grocers|Bangalore|  Mr. C|    9000000|  2025-02-28|\n",
      "|    S004|   Mega Bazaar|     Pune|  Ms. D|   30000000|  2025-02-28|\n",
      "+--------+--------------+---------+-------+-----------+------------+\n",
      "\n"
     ]
    }
   ],
   "source": [
    "stores_202502 = spark.read.format(\"csv\")\\\n",
    "                    .option(\"header\", True)\\\n",
    "                    .option(\"inferSchema\", True)\\\n",
    "                    .load(\"stores_202502.csv\")\n",
    "\n",
    "stores_202502.printSchema()\n",
    "stores_202502.show()"
   ]
  },
  {
   "cell_type": "code",
   "execution_count": 6,
   "metadata": {},
   "outputs": [
    {
     "name": "stdout",
     "output_type": "stream",
     "text": [
      "root\n",
      " |-- store_id: string (nullable = true)\n",
      " |-- store_name: string (nullable = true)\n",
      " |-- location: string (nullable = true)\n",
      " |-- manager: string (nullable = true)\n",
      " |-- total_sales: integer (nullable = true)\n",
      " |-- last_updated: date (nullable = true)\n",
      "\n",
      "+--------+--------------+---------+-------+-----------+------------+\n",
      "|store_id|    store_name| location|manager|total_sales|last_updated|\n",
      "+--------+--------------+---------+-------+-----------+------------+\n",
      "|    S001|      ABC Mart|    Delhi|  Mr. A|   18500000|  2025-03-01|\n",
      "|    S002|XYZ Superstore|   Mumbai|  Ms. B|   26800000|  2025-03-01|\n",
      "|    S003| Fresh Grocers|Bangalore|  Mr. C|   10200000|  2025-03-01|\n",
      "|    S005|    Urban Mart|Hyderabad|  Mr. E|    6000000|  2025-03-01|\n",
      "+--------+--------------+---------+-------+-----------+------------+\n",
      "\n"
     ]
    }
   ],
   "source": [
    "stores_202503 = spark.read.format(\"csv\")\\\n",
    "                    .option(\"header\", True)\\\n",
    "                    .option(\"inferSchema\", True)\\\n",
    "                    .load(\"stores_202503.csv\")\n",
    "\n",
    "stores_202503.printSchema()\n",
    "stores_202503.show()"
   ]
  },
  {
   "cell_type": "code",
   "execution_count": 7,
   "metadata": {},
   "outputs": [
    {
     "name": "stdout",
     "output_type": "stream",
     "text": [
      "['data.ipynb', 'full_load_monthly.py', 'incremental_daily.py', 'spark-warehouse', 'stores_202502.csv', 'stores_202503.csv', 'stores_202504.csv', 'transactions_20250331.csv', 'transactions_20250403.csv', 'transactions_20250404.csv']\n"
     ]
    }
   ],
   "source": [
    "import os\n",
    "print(os.listdir())"
   ]
  },
  {
   "cell_type": "code",
   "execution_count": 8,
   "metadata": {},
   "outputs": [
    {
     "data": {
      "text/plain": [
       "DataFrame[]"
      ]
     },
     "execution_count": 8,
     "metadata": {},
     "output_type": "execute_result"
    }
   ],
   "source": [
    "spark.sql(\"\"\"\n",
    "    CREATE TABLE IF NOT EXISTS transactions (\n",
    "        store_id STRING,\n",
    "        total_sales DOUBLE,\n",
    "        no_of_transactions INT\n",
    "    ) USING PARQUET\n",
    "\"\"\")"
   ]
  },
  {
   "cell_type": "code",
   "execution_count": 9,
   "metadata": {},
   "outputs": [
    {
     "name": "stdout",
     "output_type": "stream",
     "text": [
      "+---------+------------+-----------+\n",
      "|namespace|   tableName|isTemporary|\n",
      "+---------+------------+-----------+\n",
      "|  default|transactions|      false|\n",
      "+---------+------------+-----------+\n",
      "\n"
     ]
    }
   ],
   "source": [
    "spark.sql(\"SHOW TABLES\").show()"
   ]
  },
  {
   "cell_type": "code",
   "execution_count": 12,
   "metadata": {},
   "outputs": [
    {
     "data": {
      "text/plain": [
       "DataFrame[store_id: string, total_sales: double, no_of_transactions: int]"
      ]
     },
     "execution_count": 12,
     "metadata": {},
     "output_type": "execute_result"
    }
   ],
   "source": [
    "spark.sql(\"select * from transactions\")"
   ]
  },
  {
   "cell_type": "code",
   "execution_count": 11,
   "metadata": {},
   "outputs": [
    {
     "name": "stdout",
     "output_type": "stream",
     "text": [
      "Current working directory: c:\\Users\\rupali.jain\\Desktop\\Assignment\\Assignments\\POC_pyspark\n"
     ]
    }
   ],
   "source": [
    "import os\n",
    "print(f\"Current working directory: {os.getcwd()}\")"
   ]
  },
  {
   "cell_type": "code",
   "execution_count": null,
   "metadata": {},
   "outputs": [],
   "source": []
  }
 ],
 "metadata": {
  "kernelspec": {
   "display_name": ".venv",
   "language": "python",
   "name": "python3"
  },
  "language_info": {
   "codemirror_mode": {
    "name": "ipython",
    "version": 3
   },
   "file_extension": ".py",
   "mimetype": "text/x-python",
   "name": "python",
   "nbconvert_exporter": "python",
   "pygments_lexer": "ipython3",
   "version": "3.13.1"
  },
  "orig_nbformat": 4
 },
 "nbformat": 4,
 "nbformat_minor": 2
}
